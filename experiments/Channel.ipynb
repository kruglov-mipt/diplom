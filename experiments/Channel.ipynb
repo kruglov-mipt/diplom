{
 "cells": [
  {
   "cell_type": "markdown",
   "id": "f4d333e7-d25d-4144-94fb-5e19aec67ecb",
   "metadata": {},
   "source": [
    "## Подготовка ноутбука\n",
    "Импортируем все необходимые библиотеки, настроим флаги и константы, которыми будем пользоваться в эксперименте, и определим служебные функции, чтобы не отвлекаться на них в расчетной части эксперимента."
   ]
  },
  {
   "cell_type": "code",
   "execution_count": 6,
   "id": "689cbf03-219c-43ac-b650-34d1111c8c23",
   "metadata": {},
   "outputs": [
    {
     "name": "stdout",
     "output_type": "stream",
     "text": [
      "The autoreload extension is already loaded. To reload it, use:\n",
      "  %reload_ext autoreload\n"
     ]
    }
   ],
   "source": [
    "# Если что-то меняется в коде, мы хотим это сразу видеть здесь\n",
    "%load_ext autoreload\n",
    "%autoreload 2"
   ]
  },
  {
   "cell_type": "code",
   "execution_count": 7,
   "id": "8ada9ba3-65df-490a-9204-f4ed75bfe068",
   "metadata": {},
   "outputs": [],
   "source": [
    "import os\n",
    "\n",
    "import matplotlib\n",
    "import matplotlib.pyplot as plt\n",
    "from matplotlib import cm\n",
    "\n",
    "from tabulate import tabulate\n",
    "from tqdm.notebook import tqdm\n",
    "\n",
    "from itertools import product\n",
    "from collections import namedtuple\n",
    "from copy import deepcopy\n",
    "import time\n",
    "import numpy as np\n",
    "import pandas as pd\n",
    "\n",
    "# Подключаем локальные пакеты\n",
    "import pyons\n",
    "from pyons.models.rfid import pyradise"
   ]
  },
  {
   "cell_type": "code",
   "execution_count": 8,
   "id": "407f442d-a8f8-4145-83e9-99e11a96bf08",
   "metadata": {},
   "outputs": [],
   "source": [
    "# Настраиваем matplotlib\n",
    "%matplotlib inline\n",
    "matplotlib.rcParams.update({'font.size': 16})"
   ]
  },
  {
   "cell_type": "markdown",
   "id": "06c835ce-21c4-4b76-be6c-23723b8f2fd0",
   "metadata": {},
   "source": [
    "Определим переменные окружения, которые будут использоваться в эксперименте."
   ]
  },
  {
   "cell_type": "code",
   "execution_count": 9,
   "id": "ba7c10a8-2556-4394-af89-51b76aec6962",
   "metadata": {},
   "outputs": [],
   "source": [
    "# Нужно ли пересчитывать все, или можно использовать результаты из файлов\n",
    "RUN_SIMULATION = True\n",
    "\n",
    "DATA_DIR = \"data\"\n",
    "\n",
    "# Зададим число машин, проезд которых по сети мы будем моделировать.\n",
    "# Чем выше это число, тем точнее результаты, но на их получение нужно больше времени.\n",
    "# NUM_PACKETS = 10\n",
    "\n",
    "# Цветовая схема для графиков\n",
    "CMAP_NAME = 'viridis'"
   ]
  },
  {
   "cell_type": "code",
   "execution_count": 10,
   "id": "4183e217-257e-4640-98ef-fd07cad79131",
   "metadata": {},
   "outputs": [],
   "source": [
    "def get_color(x):\n",
    "    \"\"\"\n",
    "    Получить цвет из текущей карты.\n",
    "    \"\"\"\n",
    "    return cm.get_cmap(CMAP_NAME)(x)"
   ]
  },
  {
   "cell_type": "markdown",
   "id": "8e1b35fc-12d3-488a-ba02-7fd5966101b1",
   "metadata": {},
   "source": [
    "## Параметры окружения"
   ]
  },
  {
   "cell_type": "code",
   "execution_count": 13,
   "id": "f40a182e-cfd6-43c2-a9c8-7503f8b300e4",
   "metadata": {},
   "outputs": [],
   "source": [
    "FREQUENCY = 860_000_000\n",
    "SPEED_OF_LIGHT = 299_792_458\n",
    "WAVELEN = SPEED_OF_LIGHT / FREQUENCY\n",
    "THERMAL_NOISE = -114.0  # dBm\n",
    "\n",
    "# DIR_THETA = forward direction\n",
    "# DIR_PHI = right direction\n",
    "\n",
    "READER_POS = np.array((0, 1.75, 5.0))\n",
    "READER_ANGLE = np.pi / 4\n",
    "READER_FORWARD = np.array((np.sin(READER_ANGLE), 0, -np.cos(READER_ANGLE)))\n",
    "READER_RIGHT = np.array((0, 1, 0))\n",
    "READER_POLARIZATION = 0.5\n",
    "READER_GAIN = 8.0\n",
    "READER_CABLE_LOSS = -1.0\n",
    "READER_NOISE = -80.0  # dBm\n",
    "READER_TX_POWER = 31.5  # dBm\n",
    "\n",
    "TAG_POS = np.array((5, 1.75, 0.5))\n",
    "TAG_FORWARD = np.array((-1, 0, 0))\n",
    "TAG_RIGHT = np.array((0, -1, 0))\n",
    "TAG_POLARIZATION = 1.0\n",
    "TAG_SENSITIVITY = -18.0\n",
    "TAG_MODULATION_LOSS = -10.0\n",
    "\n",
    "PERMITTIVITY = 15\n",
    "CONDUCTIVITY = 0.03\n",
    "REFLECTION = pyradise.reflection\n",
    "RP = pyradise.dipole_rp"
   ]
  },
  {
   "cell_type": "code",
   "execution_count": null,
   "id": "d3fcc3c6-a42e-4287-9721-64661ab3f094",
   "metadata": {},
   "outputs": [],
   "source": []
  }
 ],
 "metadata": {
  "kernelspec": {
   "display_name": "Python 3 (ipykernel)",
   "language": "python",
   "name": "python3"
  },
  "language_info": {
   "codemirror_mode": {
    "name": "ipython",
    "version": 3
   },
   "file_extension": ".py",
   "mimetype": "text/x-python",
   "name": "python",
   "nbconvert_exporter": "python",
   "pygments_lexer": "ipython3",
   "version": "3.8.10"
  }
 },
 "nbformat": 4,
 "nbformat_minor": 5
}
