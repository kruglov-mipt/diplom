{
 "cells": [
  {
   "cell_type": "markdown",
   "id": "e510532f-72ba-4ea9-8c97-9c5ae71c6a0e",
   "metadata": {},
   "source": [
    "## Подготовка ноутбука\n",
    "Импортируем все необходимые библиотеки, настроим флаги и константы, которыми будем пользоваться в эксперименте, и определим служебные функции, чтобы не отвлекаться на них в расчетной части эксперимента."
   ]
  },
  {
   "cell_type": "code",
   "execution_count": 1,
   "id": "e169564a-c15c-468c-a0e0-cb962b917368",
   "metadata": {},
   "outputs": [],
   "source": [
    "# Если что-то меняется в коде, мы хотим это сразу видеть здесь\n",
    "%load_ext autoreload\n",
    "%autoreload 2"
   ]
  },
  {
   "cell_type": "code",
   "execution_count": 9,
   "id": "3ffc59f3-bfb3-48ce-8585-e0dbe519517d",
   "metadata": {},
   "outputs": [],
   "source": [
    "import os\n",
    "\n",
    "import matplotlib\n",
    "import matplotlib.pyplot as plt\n",
    "from matplotlib import cm\n",
    "\n",
    "from tabulate import tabulate\n",
    "from tqdm.notebook import tqdm\n",
    "\n",
    "from itertools import product\n",
    "from collections import namedtuple\n",
    "from copy import deepcopy\n",
    "import time\n",
    "import numpy as np\n",
    "import pandas as pd\n",
    "\n",
    "# Подключаем локальные пакеты\n",
    "import pyons\n",
    "from pyons.models.rfid import pyradise\n",
    "from pyons.models.rfid.serialization import Input"
   ]
  },
  {
   "cell_type": "code",
   "execution_count": 4,
   "id": "d141ed4e-0793-481e-a1a1-98bed46537d7",
   "metadata": {},
   "outputs": [],
   "source": [
    "# Настраиваем matplotlib\n",
    "%matplotlib inline\n",
    "matplotlib.rcParams.update({'font.size': 16})"
   ]
  },
  {
   "cell_type": "markdown",
   "id": "9a845493-b3b7-4cec-92bd-4c8ae15a8e11",
   "metadata": {},
   "source": [
    "Определим переменные окружения, которые будут использоваться в эксперименте."
   ]
  },
  {
   "cell_type": "code",
   "execution_count": 5,
   "id": "5f4a9142-9e08-413e-a73c-446f45b61217",
   "metadata": {},
   "outputs": [],
   "source": [
    "# Нужно ли пересчитывать все, или можно использовать результаты из файлов\n",
    "FORCE_SIMULATION = False\n",
    "SIM_FILE_PATH = 'rfid_sim_data.csv'\n",
    "\n",
    "# Зададим число машин, проезд которых по сети мы будем моделировать.\n",
    "# Чем выше это число, тем точнее результаты, но на их получение нужно больше времени.\n",
    "NUM_PACKETS = 10\n",
    "\n",
    "# Цветовая схема для графиков\n",
    "CMAP_NAME = 'viridis'"
   ]
  },
  {
   "cell_type": "code",
   "execution_count": 6,
   "id": "6474c2c2-9723-43db-958c-6668dbe5561e",
   "metadata": {},
   "outputs": [],
   "source": [
    "def get_color(x):\n",
    "    \"\"\"\n",
    "    Получить цвет из текущей карты.\n",
    "    \"\"\"\n",
    "    return cm.get_cmap(CMAP_NAME)(x)"
   ]
  },
  {
   "cell_type": "markdown",
   "id": "35493247-259d-42a7-9e9b-3a0dc9ace850",
   "metadata": {},
   "source": [
    "## Создание датасета"
   ]
  },
  {
   "cell_type": "code",
   "execution_count": 16,
   "id": "9d5d028c-ae10-4353-915b-5707c1863c7e",
   "metadata": {},
   "outputs": [],
   "source": [
    "BASE_INPUT = Input(tari=\"12.5\", m=\"4\", trext=False, q=4, reader_tx_power=\"31.5\", vehicle_speed=60)\n",
    "SPEED = [30, 60, 90, 120]\n",
    "\n",
    "def make_input(**kwargs) -> Input:\n",
    "    inp = deepcopy(BASE_INPUT)\n",
    "    for key, value in kwargs.items():\n",
    "        if key not in Input.__dataclass_fields__:\n",
    "            raise KeyError(f'Input does not have key \"{key}\"')\n",
    "        setattr(inp, key, value)\n",
    "    return inp"
   ]
  },
  {
   "cell_type": "code",
   "execution_count": 17,
   "id": "21ae525a-e190-4384-b5c9-1853eac43150",
   "metadata": {},
   "outputs": [],
   "source": [
    "inputs = []\n",
    "inputs.extend([make_input(tari=tari, vehicle_speed=speed) for tari, speed in product([\"6.25\", \"12.5\", \"18.75\", \"25\"], SPEED)])\n",
    "inputs.extend([make_input(m=m, vehicle_speed=speed) for m, speed in product([1, 2, 4, 8], SPEED)])"
   ]
  },
  {
   "cell_type": "code",
   "execution_count": 21,
   "id": "bd208958-65e4-4f34-b399-ba977ad0eddd",
   "metadata": {},
   "outputs": [],
   "source": [
    "df = pd.DataFrame(inputs)\n",
    "df.to_csv(SIM_FILE_PATH, index=False, )"
   ]
  },
  {
   "cell_type": "code",
   "execution_count": null,
   "id": "830f22a6-2390-4a03-b6c0-08d52f08dd44",
   "metadata": {},
   "outputs": [],
   "source": []
  }
 ],
 "metadata": {
  "kernelspec": {
   "display_name": "Python 3 (ipykernel)",
   "language": "python",
   "name": "python3"
  },
  "language_info": {
   "codemirror_mode": {
    "name": "ipython",
    "version": 3
   },
   "file_extension": ".py",
   "mimetype": "text/x-python",
   "name": "python",
   "nbconvert_exporter": "python",
   "pygments_lexer": "ipython3",
   "version": "3.8.10"
  }
 },
 "nbformat": 4,
 "nbformat_minor": 5
}
